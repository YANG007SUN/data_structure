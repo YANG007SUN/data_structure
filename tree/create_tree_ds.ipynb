{
 "cells": [
  {
   "cell_type": "code",
   "execution_count": 19,
   "metadata": {},
   "outputs": [],
   "source": [
    "# ============================================================================\n",
    "# Binary Structure Data\n",
    "# # 1: tree is binary\n",
    "# # 2: left node is less than the node and right node is greater than the node\n",
    "# ============================================================================\n",
    "\n",
    "# ================================================\n",
    "# Inorder: print left -> root -> right node\n",
    "# Reorder: print root -> left -> right node\n",
    "# postorder: print left -> right -> node\n",
    "# ================================================\n",
    "\n",
    "# create node class to initialize node\n",
    "class Node:\n",
    "    def __init__(self, value):\n",
    "        self.left=None\n",
    "        self.right=None\n",
    "        self.data=value\n",
    "        \n",
    "# create tree class to create actual tree\n",
    "class Tree:\n",
    "    def createNode(self, data):\n",
    "        return Node(data)\n",
    "    \n",
    "    def insert(self, node, data):\n",
    "        if node == None:\n",
    "            return self.createNode(data)\n",
    "        if data < node.data:\n",
    "            node.left = self.insert(node.left, data)\n",
    "        else:\n",
    "            node.right = self.insert(node.right, data)\n",
    "        return node\n",
    "    \n",
    "    def traverse_Inorder(self,root):\n",
    "        if root is not None:\n",
    "            self.traverse_Inorder(root.left)\n",
    "            print(root.data)\n",
    "            self.traverse_Inorder(root.right)\n"
   ]
  },
  {
   "cell_type": "code",
   "execution_count": 20,
   "metadata": {},
   "outputs": [
    {
     "name": "stdout",
     "output_type": "stream",
     "text": [
      "2\n",
      "5\n",
      "6\n",
      "7\n",
      "8\n",
      "10\n",
      "12\n",
      "15\n",
      "20\n",
      "30\n"
     ]
    }
   ],
   "source": [
    "# create driver\n",
    "# ------------------------------------------\n",
    "# list of nodes\n",
    "ls = [5,2,10,7,15,12,20,30,6,8]\n",
    "for i,v in enumerate(ls):\n",
    "    if i==0:\n",
    "        tree = Tree()\n",
    "        root = tree.createNode(v)\n",
    "    else:\n",
    "        tree.insert(root,v)\n",
    "\n",
    "tree.traverse_Inorder(root)\n"
   ]
  },
  {
   "cell_type": "code",
   "execution_count": 25,
   "metadata": {},
   "outputs": [
    {
     "name": "stdout",
     "output_type": "stream",
     "text": [
      "4 5\n"
     ]
    }
   ],
   "source": [
    "print(4, end =' ')\n",
    "print(5)"
   ]
  },
  {
   "cell_type": "code",
   "execution_count": 27,
   "metadata": {},
   "outputs": [
    {
     "data": {
      "text/plain": [
       "1"
      ]
     },
     "execution_count": 27,
     "metadata": {},
     "output_type": "execute_result"
    }
   ],
   "source": [
    "q = [1,2,3]\n",
    "e = q.pop(0)\n",
    "e"
   ]
  },
  {
   "cell_type": "code",
   "execution_count": 33,
   "metadata": {},
   "outputs": [
    {
     "data": {
      "text/plain": [
       "dict_keys([0, 1, -1])"
      ]
     },
     "execution_count": 33,
     "metadata": {},
     "output_type": "execute_result"
    }
   ],
   "source": [
    "d = {0:'a',1:'b',-1:'c'}\n",
    "d.keys()"
   ]
  },
  {
   "cell_type": "code",
   "execution_count": 36,
   "metadata": {},
   "outputs": [
    {
     "data": {
      "text/plain": [
       "{-1: 'c', 0: 'a', 1: 'b'}"
      ]
     },
     "execution_count": 36,
     "metadata": {},
     "output_type": "execute_result"
    }
   ],
   "source": [
    "dict(sorted(d.items(), key = lambda x: x[0]))"
   ]
  },
  {
   "cell_type": "code",
   "execution_count": 37,
   "metadata": {},
   "outputs": [
    {
     "data": {
      "text/plain": [
       "dict_items([(0, 'a'), (1, 'b'), (-1, 'c')])"
      ]
     },
     "execution_count": 37,
     "metadata": {},
     "output_type": "execute_result"
    }
   ],
   "source": [
    "d.items()"
   ]
  },
  {
   "cell_type": "code",
   "execution_count": 38,
   "metadata": {},
   "outputs": [
    {
     "name": "stdout",
     "output_type": "stream",
     "text": [
      "0\n",
      "1\n",
      "-1\n"
     ]
    }
   ],
   "source": [
    "for i in d:\n",
    "    print(i)"
   ]
  },
  {
   "cell_type": "code",
   "execution_count": null,
   "metadata": {},
   "outputs": [],
   "source": []
  }
 ],
 "metadata": {
  "kernelspec": {
   "display_name": "Python 3",
   "language": "python",
   "name": "python3"
  },
  "language_info": {
   "codemirror_mode": {
    "name": "ipython",
    "version": 3
   },
   "file_extension": ".py",
   "mimetype": "text/x-python",
   "name": "python",
   "nbconvert_exporter": "python",
   "pygments_lexer": "ipython3",
   "version": "3.7.6"
  }
 },
 "nbformat": 4,
 "nbformat_minor": 4
}
