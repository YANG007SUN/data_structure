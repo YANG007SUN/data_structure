{
 "cells": [
  {
   "cell_type": "code",
   "execution_count": 84,
   "metadata": {},
   "outputs": [],
   "source": [
    "# ============================================================================\n",
    "# Binary Search Tree\n",
    "# # 1: tree is binary\n",
    "# # 2: left node is less than the node and right node is greater than the node\n",
    "# ============================================================================\n",
    "\n",
    "# ================================================\n",
    "# Inorder: print left -> root -> right node\n",
    "# Reorder: print root -> left -> right node\n",
    "# postorder: print left -> right -> node\n",
    "# ================================================\n",
    "\n",
    "# create node class to initialize node\n",
    "class Node:\n",
    "    def __init__(self, value):\n",
    "        self.left=None\n",
    "        self.right=None\n",
    "        self.data=value\n",
    "        \n",
    "# create tree class to create actual tree\n",
    "class Tree:\n",
    "    def createNode(self, data):\n",
    "        return Node(data)\n",
    "    \n",
    "    def insert(self, node, data):\n",
    "        if node == None:\n",
    "            return self.createNode(data)\n",
    "        if data < node.data:\n",
    "            node.left = self.insert(node.left, data)\n",
    "        else:\n",
    "            node.right = self.insert(node.right, data)\n",
    "        return node\n",
    "    \n",
    "    def traverse_Inorder(self,root):\n",
    "        if root is not None:\n",
    "            self.traverse_Inorder(root.left)\n",
    "            print(root.data)\n",
    "            self.traverse_Inorder(root.right)\n",
    "            \n",
    "    def traverse_Postorder(self,root):\n",
    "        if root is not None:\n",
    "            self.traverse_Postorder(root.left)\n",
    "            self.traverse_Postorder(root.right)\n",
    "            print(root.data)\n",
    "    \n",
    "    def traverse_Preorder(self, root):\n",
    "        if root is not None:\n",
    "            print(root.data)\n",
    "            self.traverse_Preorder(root.left)\n",
    "            self.traverse_Preorder(root.right)\n",
    "    \n",
    "    def height(self,root)->int:\n",
    "        if root is None:\n",
    "            return -1\n",
    "        return max(self.height(root.left), self.height(root.right))+1\n",
    "    \n",
    "    def findPath(self,root,val)->list:\n",
    "        \"\"\"function find out specific path to specified value\n",
    "        \"\"\"\n",
    "        if root is None:\n",
    "            return\n",
    "        if root.data==val:\n",
    "            return [root.data]\n",
    "        res = self.findPath(root.left, val)\n",
    "        if res:\n",
    "            return [root.data]+res\n",
    "        res = self.findPath(root.right,val)\n",
    "        if res:\n",
    "            return [root.data]+res\n",
    "\n",
    "        \n",
    "        \n",
    "        \n",
    "    \n",
    "    \n"
   ]
  },
  {
   "cell_type": "code",
   "execution_count": 85,
   "metadata": {},
   "outputs": [
    {
     "name": "stdout",
     "output_type": "stream",
     "text": [
      "1\n",
      "2\n",
      "3\n",
      "4\n",
      "6\n",
      "7\n"
     ]
    }
   ],
   "source": [
    "# create driver\n",
    "# ------------------------------------------\n",
    "# list of nodes\n",
    "ls = [4, 2, 3, 1, 7, 6]\n",
    "for i,v in enumerate(ls):\n",
    "    if i==0:\n",
    "        tree = Tree()\n",
    "        root = tree.createNode(v)\n",
    "    else:\n",
    "        tree.insert(root,v)\n",
    "\n",
    "tree.traverse_Inorder(root)\n"
   ]
  },
  {
   "cell_type": "code",
   "execution_count": 86,
   "metadata": {},
   "outputs": [
    {
     "name": "stdout",
     "output_type": "stream",
     "text": [
      "1\n",
      "3\n",
      "2\n",
      "6\n",
      "7\n",
      "4\n"
     ]
    }
   ],
   "source": [
    "tree.traverse_Postorder(root)"
   ]
  },
  {
   "cell_type": "code",
   "execution_count": 87,
   "metadata": {},
   "outputs": [
    {
     "data": {
      "text/plain": [
       "2"
      ]
     },
     "execution_count": 87,
     "metadata": {},
     "output_type": "execute_result"
    }
   ],
   "source": [
    "tree.height(root)"
   ]
  },
  {
   "cell_type": "code",
   "execution_count": 89,
   "metadata": {},
   "outputs": [
    {
     "data": {
      "text/plain": [
       "[4, 7, 6]"
      ]
     },
     "execution_count": 89,
     "metadata": {},
     "output_type": "execute_result"
    }
   ],
   "source": [
    "tree.findPath(root,6)"
   ]
  },
  {
   "cell_type": "code",
   "execution_count": 66,
   "metadata": {},
   "outputs": [],
   "source": [
    "def findPath(stack,root,val):\n",
    "    if not root:\n",
    "        return []\n",
    "    stack.append(root.data)\n",
    "    if root.data==val:\n",
    "        return stack\n",
    "    findPath(stack, root.left,val)\n",
    "    findPath(stack, root.right,val)\n",
    "    stack.pop()"
   ]
  },
  {
   "cell_type": "code",
   "execution_count": 67,
   "metadata": {},
   "outputs": [],
   "source": [
    "findPath([],root,1)"
   ]
  },
  {
   "cell_type": "code",
   "execution_count": 68,
   "metadata": {},
   "outputs": [],
   "source": [
    "def printPath(stack,root):\n",
    "    if root is None:\n",
    "        return\n",
    "    stack.append(root.data)\n",
    "    if (root.left==None) and (root.right==None):\n",
    "        print(*stack)\n",
    "    printPath(stack, root.left)\n",
    "    printPath(stack, root.right)\n",
    "    stack.pop()"
   ]
  },
  {
   "cell_type": "code",
   "execution_count": 69,
   "metadata": {},
   "outputs": [
    {
     "name": "stdout",
     "output_type": "stream",
     "text": [
      "4 2 1\n",
      "4 2 3\n",
      "4 7 6\n"
     ]
    }
   ],
   "source": [
    "printPath([],root)"
   ]
  },
  {
   "cell_type": "code",
   "execution_count": 82,
   "metadata": {},
   "outputs": [],
   "source": [
    "def findpath(root, k):\n",
    "    if root is None:\n",
    "        return\n",
    "    if root.data == k:\n",
    "        return [root.data]\n",
    "    res = findpath(root.left, k)\n",
    "    if res:\n",
    "        return [root.data] + res\n",
    "    res = findpath(root.right, k)\n",
    "    if res:\n",
    "        return [root.data] + res\n",
    "    return"
   ]
  },
  {
   "cell_type": "code",
   "execution_count": 83,
   "metadata": {},
   "outputs": [
    {
     "data": {
      "text/plain": [
       "[4, 7, 6]"
      ]
     },
     "execution_count": 83,
     "metadata": {},
     "output_type": "execute_result"
    }
   ],
   "source": [
    "findpath(root,6)"
   ]
  },
  {
   "cell_type": "code",
   "execution_count": 24,
   "metadata": {},
   "outputs": [
    {
     "data": {
      "text/plain": [
       "[9, 12, 11]"
      ]
     },
     "execution_count": 24,
     "metadata": {},
     "output_type": "execute_result"
    }
   ],
   "source": [
    "l1"
   ]
  },
  {
   "cell_type": "code",
   "execution_count": 25,
   "metadata": {},
   "outputs": [
    {
     "data": {
      "text/plain": [
       "[9, 3, 1]"
      ]
     },
     "execution_count": 25,
     "metadata": {},
     "output_type": "execute_result"
    }
   ],
   "source": [
    "l2"
   ]
  },
  {
   "cell_type": "code",
   "execution_count": 26,
   "metadata": {},
   "outputs": [
    {
     "data": {
      "text/plain": [
       "9"
      ]
     },
     "execution_count": 26,
     "metadata": {},
     "output_type": "execute_result"
    }
   ],
   "source": [
    "l1 =path(root,11)\n",
    "l2 =path(root,1)\n",
    "res= None\n",
    "for i,v in zip(l1,l2):\n",
    "    if i==v:\n",
    "        res = i\n",
    "    else:\n",
    "        break\n",
    "res\n"
   ]
  },
  {
   "cell_type": "code",
   "execution_count": 252,
   "metadata": {},
   "outputs": [],
   "source": [
    "def findPath(stack,root, val):\n",
    "    if root is None:\n",
    "        return\n",
    "    stack.append(root.data)\n",
    "    if (root.left==None) and (root.right==None) and (root.data==val):\n",
    "        print(stack)\n",
    "    findPath(stack,root.left,val)\n",
    "    findPath(stack,root.right,val)\n",
    "    stack.pop()"
   ]
  },
  {
   "cell_type": "code",
   "execution_count": 253,
   "metadata": {},
   "outputs": [
    {
     "name": "stdout",
     "output_type": "stream",
     "text": [
      "[5, 10, 15, 20, 30]\n"
     ]
    }
   ],
   "source": [
    "findPath([],root,30)"
   ]
  },
  {
   "cell_type": "code",
   "execution_count": 213,
   "metadata": {},
   "outputs": [
    {
     "name": "stdout",
     "output_type": "stream",
     "text": [
      "1 1\n",
      "2 2\n",
      "3 3\n"
     ]
    }
   ],
   "source": [
    "l1 =[1,2,3,4]\n",
    "l2 = [1,2,3]\n",
    "for i,j in zip(l1, l2):\n",
    "    print(i,j)"
   ]
  },
  {
   "cell_type": "code",
   "execution_count": 221,
   "metadata": {},
   "outputs": [],
   "source": [
    "d"
   ]
  },
  {
   "cell_type": "code",
   "execution_count": null,
   "metadata": {},
   "outputs": [],
   "source": []
  }
 ],
 "metadata": {
  "kernelspec": {
   "display_name": "Python 3",
   "language": "python",
   "name": "python3"
  },
  "language_info": {
   "codemirror_mode": {
    "name": "ipython",
    "version": 3
   },
   "file_extension": ".py",
   "mimetype": "text/x-python",
   "name": "python",
   "nbconvert_exporter": "python",
   "pygments_lexer": "ipython3",
   "version": "3.7.6"
  }
 },
 "nbformat": 4,
 "nbformat_minor": 4
}
