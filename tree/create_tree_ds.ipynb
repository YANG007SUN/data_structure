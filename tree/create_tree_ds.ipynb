{
 "cells": [
  {
   "cell_type": "code",
   "execution_count": 1,
   "metadata": {},
   "outputs": [],
   "source": [
    "# create node class to initialize node\n",
    "class Node:\n",
    "    def __init__(self, value):\n",
    "        self.left=None\n",
    "        self.right=None\n",
    "        self.data=value\n",
    "        \n",
    "# create tree class to create actual tree\n",
    "class Tree:\n",
    "    def createNode(self, data):\n",
    "        return Node(data)\n",
    "    def insert(self, node, data):\n",
    "        if node == None:\n",
    "            return self.createNode(data)\n",
    "        if data < node.data:\n",
    "            node.left = self.insert(node.left, data)\n",
    "        else:\n",
    "            node.right = self.insert(node.right, data)\n",
    "        return node"
   ]
  },
  {
   "cell_type": "code",
   "execution_count": null,
   "metadata": {},
   "outputs": [],
   "source": []
  },
  {
   "cell_type": "code",
   "execution_count": null,
   "metadata": {},
   "outputs": [],
   "source": []
  },
  {
   "cell_type": "code",
   "execution_count": null,
   "metadata": {},
   "outputs": [],
   "source": []
  },
  {
   "cell_type": "code",
   "execution_count": null,
   "metadata": {},
   "outputs": [],
   "source": []
  }
 ],
 "metadata": {
  "kernelspec": {
   "display_name": "Python 3",
   "language": "python",
   "name": "python3"
  },
  "language_info": {
   "codemirror_mode": {
    "name": "ipython",
    "version": 3
   },
   "file_extension": ".py",
   "mimetype": "text/x-python",
   "name": "python",
   "nbconvert_exporter": "python",
   "pygments_lexer": "ipython3",
   "version": "3.7.6"
  }
 },
 "nbformat": 4,
 "nbformat_minor": 4
}
